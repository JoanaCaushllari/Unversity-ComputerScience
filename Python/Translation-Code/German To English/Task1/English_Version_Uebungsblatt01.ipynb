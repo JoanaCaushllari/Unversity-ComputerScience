{
 "cells": [
  {
   "cell_type": "markdown",
   "metadata": {},
   "source": [
    "# Exercise sheet 01\n",
    "\n",
    "## Task 1:\n",
    "\n",
    "A physics student wants to experimentally determine the acceleration due to gravity g. He does this by measuring\n",
    "The oscillation periods of a thread pendulum for different thread lengths. Write\n",
    "a program that allows you to enter the measured data after the measurement process has been completed\n",
    "Data allows (termination: negative length) the acceleration due to gravity for each pair of data\n",
    "calculates and at the end outputs the average value of all calculated values ​​for $g$.\n",
    "As a reminder: $g = \\dfrac{4 \\cdot \\pi^2 \\cdot l}{T^2}$\n",
    "\n",
    "For useful input values, use this [table](https://www.physics-schulexperimente.de/physo/Bestimm_der_Erdbeschnellung_mithilfe_eines_Fadenpendels#Results)"
   ]
  },
  {
   "cell_type": "code",
   "execution_count": 4,
   "metadata": {},
   "outputs": [],
   "source": [
    "# TODO task 1"
   ]
  },
  {
   "cell_type": "markdown",
   "metadata": {},
   "source": [
    "## Exercise 2:\n",
    "\n",
    "Leap years can be recognized by the fact that the year is divisible by 4. But according to the Gregorian calendar there is one\n",
    "Exception: For full centuries, only those years are leap years in which the\n",
    "The first two digits are divisible by 4. For example, 2000 is a leap year, not\n",
    "but 1900. Write a program that decides whether after entering the year\n",
    "there is a leap year."
   ]
  },
  {
   "cell_type": "code",
   "execution_count": 5,
   "metadata": {},
   "outputs": [],
   "source": [
    "# TODO task 2"
   ]
  },
  {
   "cell_type": "markdown",
   "metadata": {},
   "source": [
    "## Task 3:\n",
    "\n",
    "To calculate $\\sqrt{a}$ the following sequence of numbers can be used:\n",
    "\n",
    "$$ x_{n+1} = \\frac{1}{2} (x_n + \\frac{a}{x_n}) $$\n",
    "\n",
    "with $$ x_0 = \\frac{a + 1}{2}$$\n",
    "\n",
    "Write a program that reads in a and then calculates as many sequence members until the\n",
    "Difference between two consecutive terms smaller than 0.0001\n",
    "is. The calculated approximate value must be output."
   ]
  },
  {
   "cell_type": "code",
   "execution_count": 6,
   "metadata": {},
   "outputs": [],
   "source": [
    "# TODO task 3"
   ]
  },
  {
   "cell_type": "markdown",
   "metadata": {},
   "source": [
    "## Task 4:\n",
    "\n",
    "There are many traditional festivals in Kleinschlemm. The shooting festival takes place every 3 years,\n",
    "The Lake Night Festival takes place every 4 years and the Kirchweihfest takes place every 5 years. They fell in 1980\n",
    "three festival dates together. List the festivals for the years 2014 to 2050\n",
    "take place."
   ]
  },
  {
   "cell_type": "code",
   "execution_count": 7,
   "metadata": {},
   "outputs": [],
   "source": [
    "# TODO task 4"
   ]
  }
 ],
 "metadata": {
  "kernelspec": {
   "display_name": "base",
   "language": "python",
   "name": "python3"
  },
  "language_info": {
   "codemirror_mode": {
    "name": "ipython",
    "version": 3
   },
   "file_extension": ".py",
   "mimetype": "text/x-python",
   "name": "python",
   "nbconvert_exporter": "python",
   "pygments_lexer": "ipython3",
   "version": "3.11.7"
  }
 },
 "nbformat": 4,
 "nbformat_minor": 2
}
